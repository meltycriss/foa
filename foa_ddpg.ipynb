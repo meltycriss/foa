{
 "cells": [
  {
   "cell_type": "code",
   "execution_count": 9,
   "metadata": {
    "collapsed": true
   },
   "outputs": [],
   "source": [
    "import gym\n",
    "import gym_foa\n",
    "from gym import wrappers\n",
    "\n",
    "\n",
    "\n",
    "import torch\n",
    "import torch.nn as nn\n",
    "from torch.autograd import Variable\n",
    "import torch.nn.functional as F\n",
    "import torch.optim as optim\n",
    "\n",
    "import numpy as np\n",
    "from collections import namedtuple\n",
    "import random\n",
    "import matplotlib.pyplot as plt\n",
    "import matplotlib.patches as mpatches\n",
    "import copy\n",
    "import time\n",
    "import os\n",
    "import shutil"
   ]
  },
  {
   "cell_type": "code",
   "execution_count": 10,
   "metadata": {},
   "outputs": [
    {
     "name": "stderr",
     "output_type": "stream",
     "text": [
      "[2017-10-23 22:02:19,005] Making new env: foa-v0\n",
      "[2017-10-23 22:02:19,836] Finished writing results. You can upload them to the scoreboard via gym.upload('/home/linjt/foa/bkrd_clr_0.0001_bs_64_capa_5.0k_epi_20.0k_x5/record')\n",
      "[2017-10-23 22:02:19,845] Creating monitor directory init_bkrd_clr_0.0001_bs_64_capa_5.0k_epi_20.0k_x5/record\n"
     ]
    },
    {
     "name": "stdout",
     "output_type": "stream",
     "text": [
      "5.0\n"
     ]
    }
   ],
   "source": [
    "os.environ[\"CUDA_VISIBLE_DEVICES\"] = \"2\"\n",
    "\n",
    "N = 5\n",
    "EXPERIENCE_CAPACITY = 5000\n",
    "MAX_EPI = 2*int(1e4)\n",
    "LR_critic = .0001\n",
    "BATCH_SIZE = 64\n",
    "\n",
    "exp_name = 'init_bkrd_clr_{}_bs_{}_capa_{}k_epi_{}k_x{}'.format(\\\n",
    "            LR_critic, BATCH_SIZE, float(EXPERIENCE_CAPACITY)/1000., float(MAX_EPI)/1000., N)\n",
    "#exp_name = 'test'\n",
    "if os.path.exists(exp_name):\n",
    "    shutil.rmtree(exp_name)\n",
    "os.mkdir(exp_name)\n",
    "\n",
    "ENV_NAME = 'foa-v0'\n",
    "env = gym.make(ENV_NAME)\n",
    "RECORD = True\n",
    "\n",
    "if RECORD:\n",
    "    #env = wrappers.Monitor(env, '{}/record'.format(exp_name), force=True, video_callable=lambda episode_id: True)\n",
    "    env = wrappers.Monitor(env, '{}/record'.format(exp_name), force=True)\n",
    "TAU = .01\n",
    "GAMMA = .9\n",
    "LR_actor = .001\n",
    "\n",
    "\n",
    "TARGET_UPDATE_FREQUENCY = 200\n",
    "\n",
    "MAX_STEP = 100\n",
    "\n",
    "EPSILON = 1\n",
    "EPSILON_DECAY = 1./(1e5)\n",
    "N_STATES = env.observation_space.shape[0]\n",
    "N_ACTIONS = env.action_space.shape[0]\n",
    "N_UAVS = 1\n",
    "V_MAX = env.action_space.high[0]\n",
    "print V_MAX"
   ]
  },
  {
   "cell_type": "code",
   "execution_count": 11,
   "metadata": {
    "collapsed": true
   },
   "outputs": [],
   "source": [
    "# initialization\n",
    "use_cuda = torch.cuda.is_available()\n",
    "FloatTensor = torch.cuda.FloatTensor if use_cuda else torch.FloatTensor\n",
    "LongTensor = torch.cuda.LongTensor if use_cuda else torch.LongTensor\n",
    "ByteTensor = torch.cuda.ByteTensor if use_cuda else torch.ByteTensor\n",
    "Tensor = FloatTensor\n",
    "\n",
    "Transition = namedtuple('Transition', ('state', 'action', 'reward', 'next_state'))"
   ]
  },
  {
   "cell_type": "code",
   "execution_count": 12,
   "metadata": {
    "collapsed": true
   },
   "outputs": [],
   "source": [
    "# classes\n",
    "class Experience(object):\n",
    "    def __init__(self, capacity):\n",
    "        self.capacity = capacity\n",
    "        self.mem = []\n",
    "        self.pos = 0\n",
    "    \n",
    "    def push(self, o, a, r, o_next):\n",
    "        if len(self.mem) < self.capacity:\n",
    "            self.mem.append(None)\n",
    "        self.mem[self.pos] = Transition(o, a, r, o_next)\n",
    "        self.pos = (self.pos + 1) % self.capacity\n",
    "    \n",
    "    def sample(self, size):\n",
    "        return random.sample(self.mem, min(size, len(self.mem)))\n",
    "        #return self.mem[:1]\n",
    "    \n",
    "class Critic(nn.Module):\n",
    "    def __init__(self):\n",
    "        super(Critic, self).__init__()\n",
    "        self.fcS = nn.Linear(N_STATES, 150)\n",
    "        nn.init.kaiming_normal(self.fcS.weight)\n",
    "        self.bnS = nn.BatchNorm1d(150)\n",
    "        \n",
    "        self.fcA = nn.Linear(N_ACTIONS, 150)\n",
    "        nn.init.kaiming_normal(self.fcA.weight)\n",
    "        self.bnA = nn.BatchNorm1d(150)\n",
    "        \n",
    "        self.fc1 = nn.Linear(150, 100)\n",
    "        nn.init.kaiming_normal(self.fc1.weight)\n",
    "        self.bn1 = nn.BatchNorm1d(100)\n",
    "        \n",
    "        self.fc2 = nn.Linear(100, 100)\n",
    "        nn.init.kaiming_normal(self.fc2.weight)\n",
    "        self.bn2 = nn.BatchNorm1d(100)\n",
    "        \n",
    "        self.fc3 = nn.Linear(100, 1)\n",
    "        nn.init.kaiming_normal(self.fc3.weight)\n",
    "    \n",
    "    def forward(self, x, y):\n",
    "#         s = (self.fcS(x))\n",
    "#         a = (self.fcA(y))\n",
    "#         o = F.relu(s+a)\n",
    "#         o = (self.fc1(o))\n",
    "#         o = F.relu(o)\n",
    "#         o = (self.fc2(o))\n",
    "        \n",
    "        s = self.bnS(self.fcS(x))\n",
    "        a = self.bnA(self.fcA(y))\n",
    "        o = F.relu(s+a)\n",
    "        o = self.bn1(self.fc1(o))\n",
    "        o = F.relu(o)\n",
    "        o = self.bn2(self.fc2(o))\n",
    "        \n",
    "        o = F.relu(o)\n",
    "        o = self.fc3(o)\n",
    "        return o\n",
    "\n",
    "class Actor(nn.Module):\n",
    "    def __init__(self):\n",
    "        super(Actor, self).__init__()\n",
    "        self.fc1 = nn.Linear(N_STATES/N_UAVS, 150)\n",
    "        nn.init.kaiming_normal(self.fc1.weight)\n",
    "        self.bn1 = nn.BatchNorm1d(150)\n",
    "        \n",
    "        self.fc2 = nn.Linear(150, 100)\n",
    "        nn.init.kaiming_normal(self.fc2.weight)\n",
    "        self.bn2 = nn.BatchNorm1d(100)\n",
    "        \n",
    "        self.fc3 = nn.Linear(100, 100)\n",
    "        nn.init.kaiming_normal(self.fc3.weight)\n",
    "        self.bn3 = nn.BatchNorm1d(100)\n",
    "        \n",
    "        self.fc4 = nn.Linear(100, N_ACTIONS/N_UAVS)\n",
    "        nn.init.kaiming_normal(self.fc4.weight)\n",
    "        \n",
    "    def forward(self, x):\n",
    "#         x = (self.fc1(x))\n",
    "#         x = F.relu(x)\n",
    "#         x = (self.fc2(x))\n",
    "#         x = F.relu(x)\n",
    "#         x = (self.fc3(x))\n",
    "        \n",
    "        x = self.bn1(self.fc1(x))\n",
    "        x = F.relu(x)\n",
    "        x = self.bn2(self.fc2(x))\n",
    "        x = F.relu(x)\n",
    "        x = self.bn3(self.fc3(x))\n",
    "        \n",
    "        x = F.relu(x)\n",
    "        x = self.fc4(x)\n",
    "        x = F.tanh(x)\n",
    "        return x"
   ]
  },
  {
   "cell_type": "code",
   "execution_count": 13,
   "metadata": {
    "collapsed": true
   },
   "outputs": [],
   "source": [
    "# [reference] https://github.com/matthiasplappert/keras-rl/blob/master/rl/random.py\n",
    "\n",
    "class RandomProcess(object):\n",
    "    def reset_states(self):\n",
    "        pass\n",
    "\n",
    "class AnnealedGaussianProcess(RandomProcess):\n",
    "    def __init__(self, mu, sigma, sigma_min, n_steps_annealing):\n",
    "        self.mu = mu\n",
    "        self.sigma = sigma\n",
    "        self.n_steps = 0\n",
    "\n",
    "        if sigma_min is not None:\n",
    "            self.m = -float(sigma - sigma_min) / float(n_steps_annealing)\n",
    "            self.c = sigma\n",
    "            self.sigma_min = sigma_min\n",
    "        else:\n",
    "            self.m = 0.\n",
    "            self.c = sigma\n",
    "            self.sigma_min = sigma\n",
    "\n",
    "    @property\n",
    "    def current_sigma(self):\n",
    "        sigma = max(self.sigma_min, self.m * float(self.n_steps) + self.c)\n",
    "        return sigma\n",
    "\n",
    "\n",
    "# Based on http://math.stackexchange.com/questions/1287634/implementing-ornstein-uhlenbeck-in-matlab\n",
    "class OrnsteinUhlenbeckProcess(AnnealedGaussianProcess):\n",
    "    def __init__(self, theta, mu=0., sigma=1., dt=1e-2, x0=None, size=1, sigma_min=None, n_steps_annealing=1000):\n",
    "        super(OrnsteinUhlenbeckProcess, self).__init__(mu=mu, sigma=sigma, sigma_min=sigma_min, n_steps_annealing=n_steps_annealing)\n",
    "        self.theta = theta\n",
    "        self.mu = mu\n",
    "        self.dt = dt\n",
    "        self.x0 = x0\n",
    "        self.size = size\n",
    "        self.reset_states()\n",
    "\n",
    "    def sample(self):\n",
    "        x = self.x_prev + self.theta * (self.mu - self.x_prev) * self.dt + self.current_sigma * np.sqrt(self.dt) * np.random.normal(size=self.size)\n",
    "        self.x_prev = x\n",
    "        self.n_steps += 1\n",
    "        return x\n",
    "\n",
    "    def reset_states(self):\n",
    "        self.x_prev = self.x0 if self.x0 is not None else np.zeros(self.size)"
   ]
  },
  {
   "cell_type": "code",
   "execution_count": 14,
   "metadata": {
    "collapsed": true
   },
   "outputs": [],
   "source": [
    "def map_to_v(a, low, high):\n",
    "    return (low+high)/2 + a*(high-low)/2\n",
    "\n",
    "def choose_action(state, actor, rand_proc=None):\n",
    "    global epsilon\n",
    "    a = actor(Variable(Tensor(state).unsqueeze(0))).data.cpu().numpy()[0].astype('float64')\n",
    "    if rand_proc is not None:\n",
    "        a += max(epsilon, 0)*rand_proc.sample()\n",
    "    a = np.clip(a, -1., 1.)\n",
    "    epsilon -= EPSILON_DECAY\n",
    "    #print epsilon\n",
    "    return a\n",
    "\n",
    "def update_actor_critic(target_actor, target_critic, \\\n",
    "                       actor, critic, exp, optim_actor, optim_critic):\n",
    "    \n",
    "    \n",
    "    \n",
    "    # sample minibatch\n",
    "    minibatch = Transition(*zip(*exp.sample(BATCH_SIZE)))\n",
    "    bat_o = Variable(Tensor(minibatch.state))\n",
    "    bat_a = Variable(Tensor(minibatch.action))\n",
    "    bat_r = Variable(Tensor(minibatch.reward)).unsqueeze(1)\n",
    "    bat_o_ = Variable(Tensor(minibatch.next_state))\n",
    "    \n",
    "    bat_a0_ = target_actor(bat_o_[:,:N_STATES/N_UAVS])\n",
    "    #bat_a1_ = target_actor(bat_o_[:,N_STATES/N_UAVS:-N_STATES/N_UAVS])\n",
    "    #bat_a2_ = target_actor(bat_o_[:,-N_STATES/N_UAVS:])\n",
    "    #bat_a_o_ = torch.cat([bat_a0_, bat_a1_, bat_a2_], dim=1)\n",
    "    bat_a_o_ = bat_a0_\n",
    "\n",
    "    Gt = bat_r + GAMMA * target_critic(bat_o_, bat_a_o_)\n",
    "    Gt.detach_()\n",
    "    eval_o = critic(bat_o, bat_a)\n",
    "    criterion = nn.MSELoss()\n",
    "    if use_cuda:\n",
    "        criterion.cuda()\n",
    "    loss = criterion(eval_o, Gt)\n",
    "    #optimizer = optim.Adam(critic.parameters(), lr=LR_critic)\n",
    "    optim_critic.zero_grad()\n",
    "    loss.backward()\n",
    "    optim_critic.step()\n",
    "    \n",
    "    # update actor\n",
    "    bat_a0 = actor(bat_o[:,:N_STATES/N_UAVS])\n",
    "    #bat_a1 = actor(bat_o[:,N_STATES/N_UAVS:-N_STATES/N_UAVS])\n",
    "    #bat_a2 = actor(bat_o[:,-N_STATES/N_UAVS:])\n",
    "    #bat_a_o = torch.cat([bat_a0, bat_a1, bat_a2], dim=1)\n",
    "    bat_a_o = bat_a0\n",
    "    \n",
    "    obj = torch.mean(critic(bat_o, bat_a_o))\n",
    "    #optimizer = optim.Adam(actor.parameters(), lr=-LR_actor)\n",
    "    optim_actor.zero_grad()\n",
    "    obj.backward()\n",
    "    optim_actor.step()    \n",
    "\n",
    "def update_target(target_actor, target_critic, \\\n",
    "                         actor, critic):\n",
    "    target_actor.load_state_dict(actor.state_dict())\n",
    "    target_critic.load_state_dict(critic.state_dict())\n",
    "\n",
    "def soft_update(target, behavior, tau):\n",
    "    for key in target.state_dict().keys():\n",
    "        target.state_dict()[key].copy_(tau * behavior.state_dict()[key] + (1-tau) * target.state_dict()[key])"
   ]
  },
  {
   "cell_type": "code",
   "execution_count": 15,
   "metadata": {},
   "outputs": [
    {
     "name": "stderr",
     "output_type": "stream",
     "text": [
      "[2017-10-23 22:02:23,951] Starting new video recorder writing to /home/linjt/foa/init_bkrd_clr_0.0001_bs_64_capa_5.0k_epi_20.0k_x5/record/openaigym.video.1.12488.video000000.mp4\n"
     ]
    },
    {
     "name": "stdout",
     "output_type": "stream",
     "text": [
      "n:0, epi:0\n"
     ]
    },
    {
     "name": "stderr",
     "output_type": "stream",
     "text": [
      "[2017-10-23 22:02:24,938] Starting new video recorder writing to /home/linjt/foa/init_bkrd_clr_0.0001_bs_64_capa_5.0k_epi_20.0k_x5/record/openaigym.video.1.12488.video000001.mp4\n",
      "[2017-10-23 22:02:27,887] Starting new video recorder writing to /home/linjt/foa/init_bkrd_clr_0.0001_bs_64_capa_5.0k_epi_20.0k_x5/record/openaigym.video.1.12488.video000008.mp4\n",
      "[2017-10-23 22:02:35,835] Starting new video recorder writing to /home/linjt/foa/init_bkrd_clr_0.0001_bs_64_capa_5.0k_epi_20.0k_x5/record/openaigym.video.1.12488.video000027.mp4\n",
      "[2017-10-23 22:02:51,035] Starting new video recorder writing to /home/linjt/foa/init_bkrd_clr_0.0001_bs_64_capa_5.0k_epi_20.0k_x5/record/openaigym.video.1.12488.video000064.mp4\n",
      "[2017-10-23 22:03:24,956] Starting new video recorder writing to /home/linjt/foa/init_bkrd_clr_0.0001_bs_64_capa_5.0k_epi_20.0k_x5/record/openaigym.video.1.12488.video000125.mp4\n",
      "[2017-10-23 22:04:09,260] Starting new video recorder writing to /home/linjt/foa/init_bkrd_clr_0.0001_bs_64_capa_5.0k_epi_20.0k_x5/record/openaigym.video.1.12488.video000216.mp4\n",
      "[2017-10-23 22:08:00,820] Starting new video recorder writing to /home/linjt/foa/init_bkrd_clr_0.0001_bs_64_capa_5.0k_epi_20.0k_x5/record/openaigym.video.1.12488.video000343.mp4\n",
      "[2017-10-23 22:10:04,259] Starting new video recorder writing to /home/linjt/foa/init_bkrd_clr_0.0001_bs_64_capa_5.0k_epi_20.0k_x5/record/openaigym.video.1.12488.video000512.mp4\n",
      "[2017-10-23 22:13:51,985] Starting new video recorder writing to /home/linjt/foa/init_bkrd_clr_0.0001_bs_64_capa_5.0k_epi_20.0k_x5/record/openaigym.video.1.12488.video000729.mp4\n",
      "[2017-10-23 22:17:43,782] Starting new video recorder writing to /home/linjt/foa/init_bkrd_clr_0.0001_bs_64_capa_5.0k_epi_20.0k_x5/record/openaigym.video.1.12488.video001000.mp4\n",
      "[2017-10-23 22:37:14,671] Starting new video recorder writing to /home/linjt/foa/init_bkrd_clr_0.0001_bs_64_capa_5.0k_epi_20.0k_x5/record/openaigym.video.1.12488.video002000.mp4\n"
     ]
    },
    {
     "name": "stdout",
     "output_type": "stream",
     "text": [
      "n:0, epi:2000\n"
     ]
    },
    {
     "name": "stderr",
     "output_type": "stream",
     "text": [
      "[2017-10-23 22:45:50,383] Starting new video recorder writing to /home/linjt/foa/init_bkrd_clr_0.0001_bs_64_capa_5.0k_epi_20.0k_x5/record/openaigym.video.1.12488.video003000.mp4\n",
      "[2017-10-23 22:51:12,501] Starting new video recorder writing to /home/linjt/foa/init_bkrd_clr_0.0001_bs_64_capa_5.0k_epi_20.0k_x5/record/openaigym.video.1.12488.video004000.mp4\n"
     ]
    },
    {
     "name": "stdout",
     "output_type": "stream",
     "text": [
      "n:0, epi:4000\n"
     ]
    },
    {
     "name": "stderr",
     "output_type": "stream",
     "text": [
      "[2017-10-23 22:57:51,295] Starting new video recorder writing to /home/linjt/foa/init_bkrd_clr_0.0001_bs_64_capa_5.0k_epi_20.0k_x5/record/openaigym.video.1.12488.video005000.mp4\n",
      "[2017-10-23 23:02:34,313] Starting new video recorder writing to /home/linjt/foa/init_bkrd_clr_0.0001_bs_64_capa_5.0k_epi_20.0k_x5/record/openaigym.video.1.12488.video006000.mp4\n"
     ]
    },
    {
     "name": "stdout",
     "output_type": "stream",
     "text": [
      "n:0, epi:6000\n"
     ]
    },
    {
     "name": "stderr",
     "output_type": "stream",
     "text": [
      "[2017-10-23 23:06:29,768] Starting new video recorder writing to /home/linjt/foa/init_bkrd_clr_0.0001_bs_64_capa_5.0k_epi_20.0k_x5/record/openaigym.video.1.12488.video007000.mp4\n",
      "[2017-10-23 23:10:27,674] Starting new video recorder writing to /home/linjt/foa/init_bkrd_clr_0.0001_bs_64_capa_5.0k_epi_20.0k_x5/record/openaigym.video.1.12488.video008000.mp4\n"
     ]
    },
    {
     "name": "stdout",
     "output_type": "stream",
     "text": [
      "n:0, epi:8000\n"
     ]
    },
    {
     "name": "stderr",
     "output_type": "stream",
     "text": [
      "[2017-10-23 23:14:30,876] Starting new video recorder writing to /home/linjt/foa/init_bkrd_clr_0.0001_bs_64_capa_5.0k_epi_20.0k_x5/record/openaigym.video.1.12488.video009000.mp4\n",
      "[2017-10-23 23:20:05,897] Starting new video recorder writing to /home/linjt/foa/init_bkrd_clr_0.0001_bs_64_capa_5.0k_epi_20.0k_x5/record/openaigym.video.1.12488.video010000.mp4\n"
     ]
    },
    {
     "name": "stdout",
     "output_type": "stream",
     "text": [
      "n:0, epi:10000\n"
     ]
    },
    {
     "name": "stderr",
     "output_type": "stream",
     "text": [
      "[2017-10-23 23:25:45,232] Starting new video recorder writing to /home/linjt/foa/init_bkrd_clr_0.0001_bs_64_capa_5.0k_epi_20.0k_x5/record/openaigym.video.1.12488.video011000.mp4\n",
      "[2017-10-23 23:31:37,485] Starting new video recorder writing to /home/linjt/foa/init_bkrd_clr_0.0001_bs_64_capa_5.0k_epi_20.0k_x5/record/openaigym.video.1.12488.video012000.mp4\n"
     ]
    },
    {
     "name": "stdout",
     "output_type": "stream",
     "text": [
      "n:0, epi:12000\n"
     ]
    },
    {
     "name": "stderr",
     "output_type": "stream",
     "text": [
      "[2017-10-23 23:36:54,335] Starting new video recorder writing to /home/linjt/foa/init_bkrd_clr_0.0001_bs_64_capa_5.0k_epi_20.0k_x5/record/openaigym.video.1.12488.video013000.mp4\n",
      "[2017-10-23 23:42:43,088] Starting new video recorder writing to /home/linjt/foa/init_bkrd_clr_0.0001_bs_64_capa_5.0k_epi_20.0k_x5/record/openaigym.video.1.12488.video014000.mp4\n"
     ]
    },
    {
     "name": "stdout",
     "output_type": "stream",
     "text": [
      "n:0, epi:14000\n"
     ]
    },
    {
     "name": "stderr",
     "output_type": "stream",
     "text": [
      "[2017-10-23 23:48:32,621] Starting new video recorder writing to /home/linjt/foa/init_bkrd_clr_0.0001_bs_64_capa_5.0k_epi_20.0k_x5/record/openaigym.video.1.12488.video015000.mp4\n",
      "[2017-10-23 23:53:47,767] Starting new video recorder writing to /home/linjt/foa/init_bkrd_clr_0.0001_bs_64_capa_5.0k_epi_20.0k_x5/record/openaigym.video.1.12488.video016000.mp4\n"
     ]
    },
    {
     "name": "stdout",
     "output_type": "stream",
     "text": [
      "n:0, epi:16000\n"
     ]
    },
    {
     "name": "stderr",
     "output_type": "stream",
     "text": [
      "[2017-10-23 23:59:38,967] Starting new video recorder writing to /home/linjt/foa/init_bkrd_clr_0.0001_bs_64_capa_5.0k_epi_20.0k_x5/record/openaigym.video.1.12488.video017000.mp4\n",
      "[2017-10-24 00:05:03,778] Starting new video recorder writing to /home/linjt/foa/init_bkrd_clr_0.0001_bs_64_capa_5.0k_epi_20.0k_x5/record/openaigym.video.1.12488.video018000.mp4\n"
     ]
    },
    {
     "name": "stdout",
     "output_type": "stream",
     "text": [
      "n:0, epi:18000\n"
     ]
    },
    {
     "name": "stderr",
     "output_type": "stream",
     "text": [
      "[2017-10-24 00:10:50,587] Starting new video recorder writing to /home/linjt/foa/init_bkrd_clr_0.0001_bs_64_capa_5.0k_epi_20.0k_x5/record/openaigym.video.1.12488.video019000.mp4\n",
      "[2017-10-24 00:16:45,369] Starting new video recorder writing to /home/linjt/foa/init_bkrd_clr_0.0001_bs_64_capa_5.0k_epi_20.0k_x5/record/openaigym.video.1.12488.video020000.mp4\n"
     ]
    },
    {
     "name": "stdout",
     "output_type": "stream",
     "text": [
      "--- 134.3567548 minutes ---\n",
      "n:1, epi:0\n"
     ]
    },
    {
     "name": "stderr",
     "output_type": "stream",
     "text": [
      "[2017-10-24 00:30:28,874] Starting new video recorder writing to /home/linjt/foa/init_bkrd_clr_0.0001_bs_64_capa_5.0k_epi_20.0k_x5/record/openaigym.video.1.12488.video021000.mp4\n",
      "[2017-10-24 00:42:21,316] Starting new video recorder writing to /home/linjt/foa/init_bkrd_clr_0.0001_bs_64_capa_5.0k_epi_20.0k_x5/record/openaigym.video.1.12488.video022000.mp4\n"
     ]
    },
    {
     "name": "stdout",
     "output_type": "stream",
     "text": [
      "n:1, epi:2000\n"
     ]
    },
    {
     "name": "stderr",
     "output_type": "stream",
     "text": [
      "[2017-10-24 01:00:44,891] Starting new video recorder writing to /home/linjt/foa/init_bkrd_clr_0.0001_bs_64_capa_5.0k_epi_20.0k_x5/record/openaigym.video.1.12488.video023000.mp4\n",
      "[2017-10-24 01:11:51,100] Starting new video recorder writing to /home/linjt/foa/init_bkrd_clr_0.0001_bs_64_capa_5.0k_epi_20.0k_x5/record/openaigym.video.1.12488.video024000.mp4\n"
     ]
    },
    {
     "name": "stdout",
     "output_type": "stream",
     "text": [
      "n:1, epi:4000\n"
     ]
    },
    {
     "name": "stderr",
     "output_type": "stream",
     "text": [
      "[2017-10-24 01:20:32,229] Starting new video recorder writing to /home/linjt/foa/init_bkrd_clr_0.0001_bs_64_capa_5.0k_epi_20.0k_x5/record/openaigym.video.1.12488.video025000.mp4\n",
      "[2017-10-24 01:25:41,894] Starting new video recorder writing to /home/linjt/foa/init_bkrd_clr_0.0001_bs_64_capa_5.0k_epi_20.0k_x5/record/openaigym.video.1.12488.video026000.mp4\n"
     ]
    },
    {
     "name": "stdout",
     "output_type": "stream",
     "text": [
      "n:1, epi:6000\n"
     ]
    },
    {
     "name": "stderr",
     "output_type": "stream",
     "text": [
      "[2017-10-24 01:29:34,996] Starting new video recorder writing to /home/linjt/foa/init_bkrd_clr_0.0001_bs_64_capa_5.0k_epi_20.0k_x5/record/openaigym.video.1.12488.video027000.mp4\n",
      "[2017-10-24 01:33:31,956] Starting new video recorder writing to /home/linjt/foa/init_bkrd_clr_0.0001_bs_64_capa_5.0k_epi_20.0k_x5/record/openaigym.video.1.12488.video028000.mp4\n"
     ]
    },
    {
     "name": "stdout",
     "output_type": "stream",
     "text": [
      "n:1, epi:8000\n"
     ]
    },
    {
     "name": "stderr",
     "output_type": "stream",
     "text": [
      "[2017-10-24 01:36:55,974] Starting new video recorder writing to /home/linjt/foa/init_bkrd_clr_0.0001_bs_64_capa_5.0k_epi_20.0k_x5/record/openaigym.video.1.12488.video029000.mp4\n",
      "[2017-10-24 01:40:53,106] Starting new video recorder writing to /home/linjt/foa/init_bkrd_clr_0.0001_bs_64_capa_5.0k_epi_20.0k_x5/record/openaigym.video.1.12488.video030000.mp4\n"
     ]
    },
    {
     "name": "stdout",
     "output_type": "stream",
     "text": [
      "n:1, epi:10000\n"
     ]
    },
    {
     "name": "stderr",
     "output_type": "stream",
     "text": [
      "[2017-10-24 01:44:51,290] Starting new video recorder writing to /home/linjt/foa/init_bkrd_clr_0.0001_bs_64_capa_5.0k_epi_20.0k_x5/record/openaigym.video.1.12488.video031000.mp4\n",
      "[2017-10-24 01:48:40,106] Starting new video recorder writing to /home/linjt/foa/init_bkrd_clr_0.0001_bs_64_capa_5.0k_epi_20.0k_x5/record/openaigym.video.1.12488.video032000.mp4\n"
     ]
    },
    {
     "name": "stdout",
     "output_type": "stream",
     "text": [
      "n:1, epi:12000\n"
     ]
    },
    {
     "name": "stderr",
     "output_type": "stream",
     "text": [
      "[2017-10-24 01:52:08,417] Starting new video recorder writing to /home/linjt/foa/init_bkrd_clr_0.0001_bs_64_capa_5.0k_epi_20.0k_x5/record/openaigym.video.1.12488.video033000.mp4\n",
      "[2017-10-24 01:56:07,442] Starting new video recorder writing to /home/linjt/foa/init_bkrd_clr_0.0001_bs_64_capa_5.0k_epi_20.0k_x5/record/openaigym.video.1.12488.video034000.mp4\n"
     ]
    },
    {
     "name": "stdout",
     "output_type": "stream",
     "text": [
      "n:1, epi:14000\n"
     ]
    },
    {
     "name": "stderr",
     "output_type": "stream",
     "text": [
      "[2017-10-24 02:00:06,000] Starting new video recorder writing to /home/linjt/foa/init_bkrd_clr_0.0001_bs_64_capa_5.0k_epi_20.0k_x5/record/openaigym.video.1.12488.video035000.mp4\n",
      "[2017-10-24 02:03:41,186] Starting new video recorder writing to /home/linjt/foa/init_bkrd_clr_0.0001_bs_64_capa_5.0k_epi_20.0k_x5/record/openaigym.video.1.12488.video036000.mp4\n"
     ]
    },
    {
     "name": "stdout",
     "output_type": "stream",
     "text": [
      "n:1, epi:16000\n"
     ]
    },
    {
     "name": "stderr",
     "output_type": "stream",
     "text": [
      "[2017-10-24 02:07:32,411] Starting new video recorder writing to /home/linjt/foa/init_bkrd_clr_0.0001_bs_64_capa_5.0k_epi_20.0k_x5/record/openaigym.video.1.12488.video037000.mp4\n",
      "[2017-10-24 02:11:27,631] Starting new video recorder writing to /home/linjt/foa/init_bkrd_clr_0.0001_bs_64_capa_5.0k_epi_20.0k_x5/record/openaigym.video.1.12488.video038000.mp4\n"
     ]
    },
    {
     "name": "stdout",
     "output_type": "stream",
     "text": [
      "n:1, epi:18000\n"
     ]
    },
    {
     "name": "stderr",
     "output_type": "stream",
     "text": [
      "[2017-10-24 02:15:21,686] Starting new video recorder writing to /home/linjt/foa/init_bkrd_clr_0.0001_bs_64_capa_5.0k_epi_20.0k_x5/record/openaigym.video.1.12488.video039000.mp4\n",
      "[2017-10-24 02:18:53,529] Starting new video recorder writing to /home/linjt/foa/init_bkrd_clr_0.0001_bs_64_capa_5.0k_epi_20.0k_x5/record/openaigym.video.1.12488.video040000.mp4\n"
     ]
    },
    {
     "name": "stdout",
     "output_type": "stream",
     "text": [
      "--- 122.136217586 minutes ---\n",
      "n:2, epi:0\n"
     ]
    },
    {
     "name": "stderr",
     "output_type": "stream",
     "text": [
      "[2017-10-24 02:29:46,740] Starting new video recorder writing to /home/linjt/foa/init_bkrd_clr_0.0001_bs_64_capa_5.0k_epi_20.0k_x5/record/openaigym.video.1.12488.video041000.mp4\n",
      "[2017-10-24 02:37:21,455] Starting new video recorder writing to /home/linjt/foa/init_bkrd_clr_0.0001_bs_64_capa_5.0k_epi_20.0k_x5/record/openaigym.video.1.12488.video042000.mp4\n"
     ]
    },
    {
     "name": "stdout",
     "output_type": "stream",
     "text": [
      "n:2, epi:2000\n"
     ]
    },
    {
     "name": "stderr",
     "output_type": "stream",
     "text": [
      "[2017-10-24 02:43:23,517] Starting new video recorder writing to /home/linjt/foa/init_bkrd_clr_0.0001_bs_64_capa_5.0k_epi_20.0k_x5/record/openaigym.video.1.12488.video043000.mp4\n",
      "[2017-10-24 02:48:59,676] Starting new video recorder writing to /home/linjt/foa/init_bkrd_clr_0.0001_bs_64_capa_5.0k_epi_20.0k_x5/record/openaigym.video.1.12488.video044000.mp4\n"
     ]
    },
    {
     "name": "stdout",
     "output_type": "stream",
     "text": [
      "n:2, epi:4000\n"
     ]
    },
    {
     "name": "stderr",
     "output_type": "stream",
     "text": [
      "[2017-10-24 02:55:55,985] Starting new video recorder writing to /home/linjt/foa/init_bkrd_clr_0.0001_bs_64_capa_5.0k_epi_20.0k_x5/record/openaigym.video.1.12488.video045000.mp4\n",
      "[2017-10-24 03:02:05,038] Starting new video recorder writing to /home/linjt/foa/init_bkrd_clr_0.0001_bs_64_capa_5.0k_epi_20.0k_x5/record/openaigym.video.1.12488.video046000.mp4\n"
     ]
    },
    {
     "name": "stdout",
     "output_type": "stream",
     "text": [
      "n:2, epi:6000\n"
     ]
    },
    {
     "name": "stderr",
     "output_type": "stream",
     "text": [
      "[2017-10-24 03:09:23,708] Starting new video recorder writing to /home/linjt/foa/init_bkrd_clr_0.0001_bs_64_capa_5.0k_epi_20.0k_x5/record/openaigym.video.1.12488.video047000.mp4\n",
      "[2017-10-24 03:24:41,383] Starting new video recorder writing to /home/linjt/foa/init_bkrd_clr_0.0001_bs_64_capa_5.0k_epi_20.0k_x5/record/openaigym.video.1.12488.video048000.mp4\n"
     ]
    },
    {
     "name": "stdout",
     "output_type": "stream",
     "text": [
      "n:2, epi:8000\n"
     ]
    },
    {
     "name": "stderr",
     "output_type": "stream",
     "text": [
      "[2017-10-24 03:38:50,755] Starting new video recorder writing to /home/linjt/foa/init_bkrd_clr_0.0001_bs_64_capa_5.0k_epi_20.0k_x5/record/openaigym.video.1.12488.video049000.mp4\n",
      "[2017-10-24 03:46:19,784] Starting new video recorder writing to /home/linjt/foa/init_bkrd_clr_0.0001_bs_64_capa_5.0k_epi_20.0k_x5/record/openaigym.video.1.12488.video050000.mp4\n"
     ]
    },
    {
     "name": "stdout",
     "output_type": "stream",
     "text": [
      "n:2, epi:10000\n"
     ]
    },
    {
     "name": "stderr",
     "output_type": "stream",
     "text": [
      "[2017-10-24 03:57:12,828] Starting new video recorder writing to /home/linjt/foa/init_bkrd_clr_0.0001_bs_64_capa_5.0k_epi_20.0k_x5/record/openaigym.video.1.12488.video051000.mp4\n",
      "[2017-10-24 04:05:33,928] Starting new video recorder writing to /home/linjt/foa/init_bkrd_clr_0.0001_bs_64_capa_5.0k_epi_20.0k_x5/record/openaigym.video.1.12488.video052000.mp4\n"
     ]
    },
    {
     "name": "stdout",
     "output_type": "stream",
     "text": [
      "n:2, epi:12000\n"
     ]
    },
    {
     "name": "stderr",
     "output_type": "stream",
     "text": [
      "[2017-10-24 04:13:06,387] Starting new video recorder writing to /home/linjt/foa/init_bkrd_clr_0.0001_bs_64_capa_5.0k_epi_20.0k_x5/record/openaigym.video.1.12488.video053000.mp4\n",
      "[2017-10-24 04:19:23,670] Starting new video recorder writing to /home/linjt/foa/init_bkrd_clr_0.0001_bs_64_capa_5.0k_epi_20.0k_x5/record/openaigym.video.1.12488.video054000.mp4\n"
     ]
    },
    {
     "name": "stdout",
     "output_type": "stream",
     "text": [
      "n:2, epi:14000\n"
     ]
    },
    {
     "name": "stderr",
     "output_type": "stream",
     "text": [
      "[2017-10-24 04:21:42,803] Starting new video recorder writing to /home/linjt/foa/init_bkrd_clr_0.0001_bs_64_capa_5.0k_epi_20.0k_x5/record/openaigym.video.1.12488.video055000.mp4\n",
      "[2017-10-24 04:23:31,497] Starting new video recorder writing to /home/linjt/foa/init_bkrd_clr_0.0001_bs_64_capa_5.0k_epi_20.0k_x5/record/openaigym.video.1.12488.video056000.mp4\n"
     ]
    },
    {
     "name": "stdout",
     "output_type": "stream",
     "text": [
      "n:2, epi:16000\n"
     ]
    },
    {
     "name": "stderr",
     "output_type": "stream",
     "text": [
      "[2017-10-24 04:25:28,154] Starting new video recorder writing to /home/linjt/foa/init_bkrd_clr_0.0001_bs_64_capa_5.0k_epi_20.0k_x5/record/openaigym.video.1.12488.video057000.mp4\n",
      "[2017-10-24 04:27:17,189] Starting new video recorder writing to /home/linjt/foa/init_bkrd_clr_0.0001_bs_64_capa_5.0k_epi_20.0k_x5/record/openaigym.video.1.12488.video058000.mp4\n"
     ]
    },
    {
     "name": "stdout",
     "output_type": "stream",
     "text": [
      "n:2, epi:18000\n"
     ]
    },
    {
     "name": "stderr",
     "output_type": "stream",
     "text": [
      "[2017-10-24 04:29:04,299] Starting new video recorder writing to /home/linjt/foa/init_bkrd_clr_0.0001_bs_64_capa_5.0k_epi_20.0k_x5/record/openaigym.video.1.12488.video059000.mp4\n",
      "[2017-10-24 04:30:49,609] Starting new video recorder writing to /home/linjt/foa/init_bkrd_clr_0.0001_bs_64_capa_5.0k_epi_20.0k_x5/record/openaigym.video.1.12488.video060000.mp4\n"
     ]
    },
    {
     "name": "stdout",
     "output_type": "stream",
     "text": [
      "--- 131.934940068 minutes ---\n",
      "n:3, epi:0\n"
     ]
    },
    {
     "name": "stderr",
     "output_type": "stream",
     "text": [
      "[2017-10-24 04:34:18,826] Starting new video recorder writing to /home/linjt/foa/init_bkrd_clr_0.0001_bs_64_capa_5.0k_epi_20.0k_x5/record/openaigym.video.1.12488.video061000.mp4\n",
      "[2017-10-24 04:36:55,930] Starting new video recorder writing to /home/linjt/foa/init_bkrd_clr_0.0001_bs_64_capa_5.0k_epi_20.0k_x5/record/openaigym.video.1.12488.video062000.mp4\n"
     ]
    },
    {
     "name": "stdout",
     "output_type": "stream",
     "text": [
      "n:3, epi:2000\n"
     ]
    },
    {
     "name": "stderr",
     "output_type": "stream",
     "text": [
      "[2017-10-24 04:39:48,509] Starting new video recorder writing to /home/linjt/foa/init_bkrd_clr_0.0001_bs_64_capa_5.0k_epi_20.0k_x5/record/openaigym.video.1.12488.video063000.mp4\n",
      "[2017-10-24 04:42:25,145] Starting new video recorder writing to /home/linjt/foa/init_bkrd_clr_0.0001_bs_64_capa_5.0k_epi_20.0k_x5/record/openaigym.video.1.12488.video064000.mp4\n"
     ]
    },
    {
     "name": "stdout",
     "output_type": "stream",
     "text": [
      "n:3, epi:4000\n"
     ]
    },
    {
     "name": "stderr",
     "output_type": "stream",
     "text": [
      "[2017-10-24 04:44:19,757] Starting new video recorder writing to /home/linjt/foa/init_bkrd_clr_0.0001_bs_64_capa_5.0k_epi_20.0k_x5/record/openaigym.video.1.12488.video065000.mp4\n",
      "[2017-10-24 04:45:32,616] Starting new video recorder writing to /home/linjt/foa/init_bkrd_clr_0.0001_bs_64_capa_5.0k_epi_20.0k_x5/record/openaigym.video.1.12488.video066000.mp4\n"
     ]
    },
    {
     "name": "stdout",
     "output_type": "stream",
     "text": [
      "n:3, epi:6000\n"
     ]
    },
    {
     "name": "stderr",
     "output_type": "stream",
     "text": [
      "[2017-10-24 04:47:06,284] Starting new video recorder writing to /home/linjt/foa/init_bkrd_clr_0.0001_bs_64_capa_5.0k_epi_20.0k_x5/record/openaigym.video.1.12488.video067000.mp4\n",
      "[2017-10-24 04:49:17,505] Starting new video recorder writing to /home/linjt/foa/init_bkrd_clr_0.0001_bs_64_capa_5.0k_epi_20.0k_x5/record/openaigym.video.1.12488.video068000.mp4\n"
     ]
    },
    {
     "name": "stdout",
     "output_type": "stream",
     "text": [
      "n:3, epi:8000\n"
     ]
    },
    {
     "name": "stderr",
     "output_type": "stream",
     "text": [
      "[2017-10-24 04:51:04,964] Starting new video recorder writing to /home/linjt/foa/init_bkrd_clr_0.0001_bs_64_capa_5.0k_epi_20.0k_x5/record/openaigym.video.1.12488.video069000.mp4\n",
      "[2017-10-24 04:52:51,695] Starting new video recorder writing to /home/linjt/foa/init_bkrd_clr_0.0001_bs_64_capa_5.0k_epi_20.0k_x5/record/openaigym.video.1.12488.video070000.mp4\n"
     ]
    },
    {
     "name": "stdout",
     "output_type": "stream",
     "text": [
      "n:3, epi:10000\n"
     ]
    },
    {
     "name": "stderr",
     "output_type": "stream",
     "text": [
      "[2017-10-24 04:54:35,421] Starting new video recorder writing to /home/linjt/foa/init_bkrd_clr_0.0001_bs_64_capa_5.0k_epi_20.0k_x5/record/openaigym.video.1.12488.video071000.mp4\n",
      "[2017-10-24 04:56:22,973] Starting new video recorder writing to /home/linjt/foa/init_bkrd_clr_0.0001_bs_64_capa_5.0k_epi_20.0k_x5/record/openaigym.video.1.12488.video072000.mp4\n"
     ]
    },
    {
     "name": "stdout",
     "output_type": "stream",
     "text": [
      "n:3, epi:12000\n"
     ]
    },
    {
     "name": "stderr",
     "output_type": "stream",
     "text": [
      "[2017-10-24 04:58:09,873] Starting new video recorder writing to /home/linjt/foa/init_bkrd_clr_0.0001_bs_64_capa_5.0k_epi_20.0k_x5/record/openaigym.video.1.12488.video073000.mp4\n",
      "[2017-10-24 04:59:53,481] Starting new video recorder writing to /home/linjt/foa/init_bkrd_clr_0.0001_bs_64_capa_5.0k_epi_20.0k_x5/record/openaigym.video.1.12488.video074000.mp4\n"
     ]
    },
    {
     "name": "stdout",
     "output_type": "stream",
     "text": [
      "n:3, epi:14000\n"
     ]
    },
    {
     "name": "stderr",
     "output_type": "stream",
     "text": [
      "[2017-10-24 05:01:38,259] Starting new video recorder writing to /home/linjt/foa/init_bkrd_clr_0.0001_bs_64_capa_5.0k_epi_20.0k_x5/record/openaigym.video.1.12488.video075000.mp4\n",
      "[2017-10-24 05:03:29,229] Starting new video recorder writing to /home/linjt/foa/init_bkrd_clr_0.0001_bs_64_capa_5.0k_epi_20.0k_x5/record/openaigym.video.1.12488.video076000.mp4\n"
     ]
    },
    {
     "name": "stdout",
     "output_type": "stream",
     "text": [
      "n:3, epi:16000\n"
     ]
    },
    {
     "name": "stderr",
     "output_type": "stream",
     "text": [
      "[2017-10-24 05:05:44,493] Starting new video recorder writing to /home/linjt/foa/init_bkrd_clr_0.0001_bs_64_capa_5.0k_epi_20.0k_x5/record/openaigym.video.1.12488.video077000.mp4\n",
      "[2017-10-24 05:08:02,257] Starting new video recorder writing to /home/linjt/foa/init_bkrd_clr_0.0001_bs_64_capa_5.0k_epi_20.0k_x5/record/openaigym.video.1.12488.video078000.mp4\n"
     ]
    },
    {
     "name": "stdout",
     "output_type": "stream",
     "text": [
      "n:3, epi:18000\n"
     ]
    },
    {
     "name": "stderr",
     "output_type": "stream",
     "text": [
      "[2017-10-24 05:10:24,183] Starting new video recorder writing to /home/linjt/foa/init_bkrd_clr_0.0001_bs_64_capa_5.0k_epi_20.0k_x5/record/openaigym.video.1.12488.video079000.mp4\n",
      "[2017-10-24 05:12:42,954] Starting new video recorder writing to /home/linjt/foa/init_bkrd_clr_0.0001_bs_64_capa_5.0k_epi_20.0k_x5/record/openaigym.video.1.12488.video080000.mp4\n"
     ]
    },
    {
     "name": "stdout",
     "output_type": "stream",
     "text": [
      "--- 41.8890789668 minutes ---\n",
      "n:4, epi:0\n"
     ]
    },
    {
     "name": "stderr",
     "output_type": "stream",
     "text": [
      "[2017-10-24 05:17:44,334] Starting new video recorder writing to /home/linjt/foa/init_bkrd_clr_0.0001_bs_64_capa_5.0k_epi_20.0k_x5/record/openaigym.video.1.12488.video081000.mp4\n",
      "[2017-10-24 05:21:54,161] Starting new video recorder writing to /home/linjt/foa/init_bkrd_clr_0.0001_bs_64_capa_5.0k_epi_20.0k_x5/record/openaigym.video.1.12488.video082000.mp4\n"
     ]
    },
    {
     "name": "stdout",
     "output_type": "stream",
     "text": [
      "n:4, epi:2000\n"
     ]
    },
    {
     "name": "stderr",
     "output_type": "stream",
     "text": [
      "[2017-10-24 05:25:34,547] Starting new video recorder writing to /home/linjt/foa/init_bkrd_clr_0.0001_bs_64_capa_5.0k_epi_20.0k_x5/record/openaigym.video.1.12488.video083000.mp4\n",
      "[2017-10-24 05:29:35,548] Starting new video recorder writing to /home/linjt/foa/init_bkrd_clr_0.0001_bs_64_capa_5.0k_epi_20.0k_x5/record/openaigym.video.1.12488.video084000.mp4\n"
     ]
    },
    {
     "name": "stdout",
     "output_type": "stream",
     "text": [
      "n:4, epi:4000\n"
     ]
    },
    {
     "name": "stderr",
     "output_type": "stream",
     "text": [
      "[2017-10-24 05:32:14,173] Starting new video recorder writing to /home/linjt/foa/init_bkrd_clr_0.0001_bs_64_capa_5.0k_epi_20.0k_x5/record/openaigym.video.1.12488.video085000.mp4\n",
      "[2017-10-24 05:34:16,866] Starting new video recorder writing to /home/linjt/foa/init_bkrd_clr_0.0001_bs_64_capa_5.0k_epi_20.0k_x5/record/openaigym.video.1.12488.video086000.mp4\n"
     ]
    },
    {
     "name": "stdout",
     "output_type": "stream",
     "text": [
      "n:4, epi:6000\n"
     ]
    },
    {
     "name": "stderr",
     "output_type": "stream",
     "text": [
      "[2017-10-24 05:36:49,287] Starting new video recorder writing to /home/linjt/foa/init_bkrd_clr_0.0001_bs_64_capa_5.0k_epi_20.0k_x5/record/openaigym.video.1.12488.video087000.mp4\n",
      "[2017-10-24 05:42:08,929] Starting new video recorder writing to /home/linjt/foa/init_bkrd_clr_0.0001_bs_64_capa_5.0k_epi_20.0k_x5/record/openaigym.video.1.12488.video088000.mp4\n"
     ]
    },
    {
     "name": "stdout",
     "output_type": "stream",
     "text": [
      "n:4, epi:8000\n"
     ]
    },
    {
     "name": "stderr",
     "output_type": "stream",
     "text": [
      "[2017-10-24 05:46:28,840] Starting new video recorder writing to /home/linjt/foa/init_bkrd_clr_0.0001_bs_64_capa_5.0k_epi_20.0k_x5/record/openaigym.video.1.12488.video089000.mp4\n",
      "[2017-10-24 05:53:22,387] Starting new video recorder writing to /home/linjt/foa/init_bkrd_clr_0.0001_bs_64_capa_5.0k_epi_20.0k_x5/record/openaigym.video.1.12488.video090000.mp4\n"
     ]
    },
    {
     "name": "stdout",
     "output_type": "stream",
     "text": [
      "n:4, epi:10000\n"
     ]
    },
    {
     "name": "stderr",
     "output_type": "stream",
     "text": [
      "[2017-10-24 05:58:44,282] Starting new video recorder writing to /home/linjt/foa/init_bkrd_clr_0.0001_bs_64_capa_5.0k_epi_20.0k_x5/record/openaigym.video.1.12488.video091000.mp4\n",
      "[2017-10-24 05:59:56,058] Starting new video recorder writing to /home/linjt/foa/init_bkrd_clr_0.0001_bs_64_capa_5.0k_epi_20.0k_x5/record/openaigym.video.1.12488.video092000.mp4\n"
     ]
    },
    {
     "name": "stdout",
     "output_type": "stream",
     "text": [
      "n:4, epi:12000\n"
     ]
    },
    {
     "name": "stderr",
     "output_type": "stream",
     "text": [
      "[2017-10-24 06:01:06,577] Starting new video recorder writing to /home/linjt/foa/init_bkrd_clr_0.0001_bs_64_capa_5.0k_epi_20.0k_x5/record/openaigym.video.1.12488.video093000.mp4\n",
      "[2017-10-24 06:02:23,425] Starting new video recorder writing to /home/linjt/foa/init_bkrd_clr_0.0001_bs_64_capa_5.0k_epi_20.0k_x5/record/openaigym.video.1.12488.video094000.mp4\n"
     ]
    },
    {
     "name": "stdout",
     "output_type": "stream",
     "text": [
      "n:4, epi:14000\n"
     ]
    },
    {
     "name": "stderr",
     "output_type": "stream",
     "text": [
      "[2017-10-24 06:03:41,677] Starting new video recorder writing to /home/linjt/foa/init_bkrd_clr_0.0001_bs_64_capa_5.0k_epi_20.0k_x5/record/openaigym.video.1.12488.video095000.mp4\n",
      "[2017-10-24 06:04:52,994] Starting new video recorder writing to /home/linjt/foa/init_bkrd_clr_0.0001_bs_64_capa_5.0k_epi_20.0k_x5/record/openaigym.video.1.12488.video096000.mp4\n"
     ]
    },
    {
     "name": "stdout",
     "output_type": "stream",
     "text": [
      "n:4, epi:16000\n"
     ]
    },
    {
     "name": "stderr",
     "output_type": "stream",
     "text": [
      "[2017-10-24 06:06:08,608] Starting new video recorder writing to /home/linjt/foa/init_bkrd_clr_0.0001_bs_64_capa_5.0k_epi_20.0k_x5/record/openaigym.video.1.12488.video097000.mp4\n",
      "[2017-10-24 06:07:23,174] Starting new video recorder writing to /home/linjt/foa/init_bkrd_clr_0.0001_bs_64_capa_5.0k_epi_20.0k_x5/record/openaigym.video.1.12488.video098000.mp4\n"
     ]
    },
    {
     "name": "stdout",
     "output_type": "stream",
     "text": [
      "n:4, epi:18000\n"
     ]
    },
    {
     "name": "stderr",
     "output_type": "stream",
     "text": [
      "[2017-10-24 06:08:37,410] Starting new video recorder writing to /home/linjt/foa/init_bkrd_clr_0.0001_bs_64_capa_5.0k_epi_20.0k_x5/record/openaigym.video.1.12488.video099000.mp4\n"
     ]
    },
    {
     "name": "stdout",
     "output_type": "stream",
     "text": [
      "--- 57.1314777652 minutes ---\n"
     ]
    }
   ],
   "source": [
    "\n",
    "\n",
    "n_vec_r = []\n",
    "n_vec_avg_cost = []\n",
    "n_vec_total_cost = []\n",
    "n_vec_target_update = []\n",
    "n_vec_experience_refresh = []\n",
    "n_vec_training_time = []\n",
    "for n in xrange(5):    \n",
    "    start_time = time.time()\n",
    "    \n",
    "    target_actor = Actor()\n",
    "    target_critic = Critic()\n",
    "    actor = Actor()\n",
    "    critic = Critic()\n",
    "    if use_cuda:\n",
    "        target_actor.cuda()\n",
    "        target_critic.cuda()\n",
    "        actor.cuda()\n",
    "        critic.cuda()\n",
    "    exp = Experience(EXPERIENCE_CAPACITY)\n",
    "    optim_critic = optim.Adam(critic.parameters(), lr=LR_critic)\n",
    "    optim_actor = optim.Adam(actor.parameters(), lr=-LR_actor)\n",
    "\n",
    "    target_actor.load_state_dict(actor.state_dict())\n",
    "    target_critic.load_state_dict(critic.state_dict())\n",
    "    \n",
    "    random_process = OrnsteinUhlenbeckProcess(\\\n",
    "            size=N_ACTIONS/N_UAVS, theta=.15, mu=0, sigma=.2)\n",
    "    epsilon = EPSILON\n",
    "    \n",
    "    vec_r = []\n",
    "    vec_avg_cost = []\n",
    "    vec_total_cost = []\n",
    "    vec_target_update = []\n",
    "    vec_experience_refresh = []\n",
    "    update_counter = 0\n",
    "    for epi in xrange(MAX_EPI):\n",
    "        if epi%(MAX_EPI/10)==0:\n",
    "            print 'n:{}, epi:{}'.format(n, epi)\n",
    "                    \n",
    "        random_process.reset_states()\n",
    "        \n",
    "        o = env.reset()\n",
    "        acc_r = 0\n",
    "        \n",
    "        local_r = []\n",
    "        \n",
    "        avg_cost = np.zeros([4])\n",
    "        total_cost = 0\n",
    "    \n",
    "        counter = 0\n",
    "        #for t in xrange(MAX_STEP):    \n",
    "        while True:\n",
    "            counter += 1\n",
    "            \n",
    "            if RECORD:\n",
    "                env.render()\n",
    "            \n",
    "            a0 = choose_action(o[:N_STATES/N_UAVS], actor, random_process)\n",
    "            #a1 = choose_action(o[N_STATES/N_UAVS:-N_STATES/N_UAVS], actor)\n",
    "            #a2 = choose_action(o[-N_STATES/N_UAVS:], actor)\n",
    "            #a = np.hstack([a0, a1, a2])\n",
    "            a = a0\n",
    "            if update_counter<1000:\n",
    "                a = np.array([0.,3./5.])\n",
    "            \n",
    "            o_, r, done, info = env.step(map_to_v(a, -V_MAX, V_MAX))\n",
    "            exp.push(o, a, r, o_)\n",
    "            \n",
    "            cost = np.array(info['cost'])\n",
    "            avg_cost += (cost-avg_cost)/(counter)\n",
    "            total_cost += r\n",
    "            \n",
    "            update_actor_critic(target_actor, target_critic, \\\n",
    "                               actor, critic, exp, optim_actor, optim_critic)\n",
    "            update_counter += 1\n",
    "            \n",
    "            if update_counter % TARGET_UPDATE_FREQUENCY == 0:\n",
    "                vec_target_update.append(epi)\n",
    "                update_target(target_actor, target_critic, \\\n",
    "                             actor, critic)\n",
    "            if update_counter % EXPERIENCE_CAPACITY == 0:\n",
    "                vec_experience_refresh.append(epi)\n",
    "            \n",
    "            local_r.append(r)\n",
    "            acc_r += r\n",
    "            o = o_\n",
    "            if done:\n",
    "                break\n",
    "        \n",
    "        vec_r.append(acc_r)\n",
    "        vec_avg_cost.append(avg_cost)\n",
    "        vec_total_cost.append(total_cost)\n",
    "        \n",
    "    n_vec_r.append(vec_r)\n",
    "    n_vec_avg_cost.append(vec_avg_cost)\n",
    "    n_vec_total_cost.append(vec_total_cost)\n",
    "    n_vec_target_update.append(vec_target_update)\n",
    "    n_vec_experience_refresh.append(vec_experience_refresh)\n",
    "    n_vec_training_time.append((time.time() - start_time)/60)\n",
    "    \n",
    "    torch.save(actor.state_dict(), '{}/actor{}.pt'.format(exp_name, n))\n",
    "    \n",
    "    print \"--- {} minutes ---\".format((time.time() - start_time)/60)\n",
    "\n"
   ]
  },
  {
   "cell_type": "code",
   "execution_count": 16,
   "metadata": {},
   "outputs": [
    {
     "data": {
      "image/png": "[encoded data removed]",
      "text/plain": [
       "<matplotlib.figure.Figure at 0x7f4ee162a510>"
      ]
     },
     "metadata": {},
     "output_type": "display_data"
    },
    {
     "data": {
      "image/png": "[encoded data removed]",
      "text/plain": [
       "<matplotlib.figure.Figure at 0x7f4ecd192b50>"
      ]
     },
     "metadata": {},
     "output_type": "display_data"
    },
    {
     "data": {
      "image/png": "[encoded data removed]",
      "text/plain": [
       "<matplotlib.figure.Figure at 0x7f4eccb24e50>"
      ]
     },
     "metadata": {},
     "output_type": "display_data"
    },
    {
     "data": {
      "image/png": "[encoded data removed]",
      "text/plain": [
       "<matplotlib.figure.Figure at 0x7f4ecd1defd0>"
      ]
     },
     "metadata": {},
     "output_type": "display_data"
    },
    {
     "data": {
      "image/png": "[encoded data removed]",
      "text/plain": [
       "<matplotlib.figure.Figure at 0x7f4ecd3ccf50>"
      ]
     },
     "metadata": {},
     "output_type": "display_data"
    },
    {
     "data": {
      "image/png": "[encoded data removed]",
      "text/plain": [
       "<matplotlib.figure.Figure at 0x7f4ecd0d47d0>"
      ]
     },
     "metadata": {},
     "output_type": "display_data"
    }
   ],
   "source": [
    "def plot_avg_1d(vec, title=None, xlabel=None, ylabel=None, save=False, folder='.',\\\n",
    "                ylim=None, begin=0, marker='', target=None, exp=None):\n",
    "    record = np.array(vec)\n",
    "    if len(record.shape) is not 1:\n",
    "        print 'vec should be 1D array [e0, e1, ...]'\n",
    "        return\n",
    "    if ylim is not None:\n",
    "        axes = plt.gca()\n",
    "        axes.set_ylim(ylim)\n",
    "    mu = record.mean(axis=0)\n",
    "    plt.plot(np.array(range(record.shape[0]))+begin, record, marker)\n",
    "    plt.plot(np.array(range(record.shape[0]))+begin, mu*np.ones(record.shape[0]), color='red')\n",
    "    patches = []\n",
    "    if target is not None and len(target)>0:\n",
    "        target = np.array(target)\n",
    "        target_color = 'b'\n",
    "        target_patch = mpatches.Patch(color=target_color, label='update target')\n",
    "        patches.append(target_patch)\n",
    "        for t in target:\n",
    "            plt.axvline(t, ls='dashed', c=target_color)\n",
    "    if exp is not None and len(exp)>0:\n",
    "        exp = np.array(exp)\n",
    "        exp_color = 'r'\n",
    "        exp_patch = mpatches.Patch(color=exp_color, label='exp refresh')\n",
    "        patches.append(exp_patch)\n",
    "        for e in exp:\n",
    "            plt.axvline(e, ls='dashed', c=exp_color)\n",
    "    if len(patches)>0:\n",
    "        plt.legend(handles=patches)\n",
    "    if title is not None:\n",
    "        plt.title(title)\n",
    "    if xlabel is not None:\n",
    "        plt.xlabel(xlabel)\n",
    "    if ylabel is not None:\n",
    "        plt.ylabel(ylabel, rotation=45)\n",
    "    if save:\n",
    "        plt.savefig('{}/{}.png'.format(folder, title))      \n",
    "    plt.show()\n",
    "\n",
    "def plot_avg_2d(vec, title=None, xlabel=None, ylabel=None, save=False, folder='.',\\\n",
    "                ylim=None, begin=0):\n",
    "    record = np.array(vec)\n",
    "    if len(record.shape) is not 2:\n",
    "        print 'vec should be 2D array [[seq0], [seq1], ...]'\n",
    "        return\n",
    "    if ylim is not None:\n",
    "        axes = plt.gca()\n",
    "        axes.set_ylim(ylim)\n",
    "    mu = record.mean(axis=0)\n",
    "    sigma = record.std(axis=0)\n",
    "    lower_bound = mu-sigma\n",
    "    upper_bound = mu+sigma\n",
    "    plt.plot(np.array(range(mu.shape[0]))+begin, mu, color='red')\n",
    "    plt.fill_between(np.array(range(mu.shape[0]))+begin, lower_bound, upper_bound, facecolor='blue', alpha=0.5)\n",
    "    if title is not None:\n",
    "        plt.title(title)\n",
    "    if xlabel is not None:\n",
    "        plt.xlabel(xlabel)\n",
    "    if ylabel is not None:\n",
    "        plt.ylabel(ylabel, rotation=45)\n",
    "    if save:\n",
    "        plt.savefig('{}/{}.png'.format(folder, title))\n",
    "    plt.show()\n",
    "\n",
    "# data\n",
    "n_vec_avg_cost = np.array(n_vec_avg_cost)\n",
    "n_vec_total_cost = np.array(n_vec_total_cost)\n",
    "n_vec_target_update = np.array(n_vec_target_update)\n",
    "n_vec_experience_refresh = np.array(n_vec_experience_refresh)\n",
    "\n",
    "\n",
    "cost = gym_foa.envs.FoaEnv.Cost(*np.rollaxis(n_vec_avg_cost,2))\n",
    "avg_cost = cost.collision[0]+cost.goal[0]+cost.formation[0]+cost.v_pref[0]\n",
    "\n",
    "# param\n",
    "save = True\n",
    "marker = '.'\n",
    "\n",
    "target = np.array([10,20,30])\n",
    "experience = np.array([15,25])\n",
    "\n",
    "plot_avg_2d(n_vec_total_cost, title='total cost', ylim=[-8000,1000], save=save, folder=exp_name)\n",
    "for i in xrange(n_vec_avg_cost.shape[0]):\n",
    "    plot_avg_1d(n_vec_total_cost[i], title='total cost of {} \\n training time: {} minutes'.format(i, n_vec_training_time[i]),\\\n",
    "                ylim=[-8000,1000], save=save, folder=exp_name)\n",
    "                #target=n_vec_target_update[i], )\n",
    "                #exp=n_vec_experience_refresh[i])\n",
    "\n",
    "\n",
    "\n",
    "# marker = ''\n",
    "# int0 = slice(0,20000)\n",
    "# # plot_avg_1d(n_vec_total_cost[0][int0], title='total cost: first drop', ylim=[-8000,1000], begin=int0.start, save=save, marker=marker)\n",
    "# plot_avg_1d(cost.v_pref[0][int0], title='v_pref: first drop', begin=int0.start, save=save, marker=marker)\n",
    "\n",
    "# marker = ''\n",
    "# int1 = slice(3000,3200)\n",
    "# plot_avg_1d(n_vec_total_cost[0][int1], title='total cost: second drop', ylim=[-8000,1000], begin=int1.start, save=save, marker=marker)\n",
    "# plot_avg_1d(cost.v_pref[0][int1], title='v_pref: second drop', begin=int1.start, save=save, marker=marker)\n",
    "\n",
    "# int2 = slice(7000,8000)\n",
    "# plot_avg_1d(n_vec_total_cost[0][int2], title='total cost: second drop', ylim=[-8000,1000], begin=int2.start, save=save, marker=marker)\n",
    "# plot_avg_1d(cost.v_pref[0][int2], title='v_pref: second drop', begin=int2.start, save=save, marker=marker)\n",
    "\n",
    "# int3 = slice(9600,10000)\n",
    "# plot_avg_1d(n_vec_total_cost[0][int3], title='total cost: third drop', ylim=[-8000,1000], begin=int3.start, save=save, marker=marker)\n",
    "# plot_avg_1d(cost.v_pref[0][int3], title='v_pref: third drop', begin=int3.start, save=save, marker=marker)            \n",
    "            "
   ]
  },
  {
   "cell_type": "code",
   "execution_count": 215,
   "metadata": {},
   "outputs": [
    {
     "data": {
      "text/plain": [
       "0.020631469999040877"
      ]
     },
     "execution_count": 215,
     "metadata": {},
     "output_type": "execute_result"
    }
   ],
   "source": [
    "#torch.save(actor.state_dict(), 'actor_3w.param')\n",
    "#torch.save(critic.state_dict(), 'critic.param')\n",
    "\n",
    "#from gym import wrappers\n",
    "\n",
    "#env = wrappers.Monitor(env, 'exp', force=True)\n",
    "\n",
    "\n",
    "actor = Actor()\n",
    "actor.load_state_dict(torch.load('actor3.pt'))\n",
    "actor.eval()\n",
    "#actor.cuda()\n",
    "\n",
    "start_time = time.time()\n",
    "counter = 0\n",
    "for n in xrange(10):\n",
    "    o = env.reset()\n",
    "    for t in xrange(MAX_STEP):\n",
    "        counter += 1\n",
    "#        print 'n:{}, t:{}'.format(n, t)\n",
    "#         env.render()\n",
    "        #a0 = choose_action(o[:N_STATES/N_UAVS], actor)\n",
    "        \n",
    "        \n",
    "        a0 = actor(Variable(torch.FloatTensor(o[:N_STATES/N_UAVS]).unsqueeze(0))).data.cpu().numpy()[0].astype('float64')\n",
    "        \n",
    "        \n",
    "        #a1 = choose_action(o[N_STATES/N_UAVS:-N_STATES/N_UAVS], actor)\n",
    "        #a2 = choose_action(o[-N_STATES/N_UAVS:], actor)\n",
    "        #a = np.hstack([a0, a1, a2])\n",
    "        \n",
    "#        print a0\n",
    "        \n",
    "        o_, r, done, info = env.step(a0)\n",
    "    \n",
    "        o = o_\n",
    "        if done:\n",
    "            break\n",
    "(time.time() - start_time)/counter"
   ]
  },
  {
   "cell_type": "code",
   "execution_count": 245,
   "metadata": {
    "collapsed": true
   },
   "outputs": [],
   "source": [
    "import pickle\n",
    "\n",
    "name = 'capa_7.5k_epi_2w_x5'\n",
    "\n",
    "# Saving the objects:\n",
    "with open('{}_total_cost.pickle'.format(name), 'w') as f:  # Python 3: open(..., 'wb')\n",
    "    pickle.dump(n_vec_total_cost, f)\n",
    "\n",
    "with open('{}_target_update.pickle'.format(name), 'w') as f:  # Python 3: open(..., 'wb')\n",
    "    pickle.dump(n_vec_target_update, f)\n",
    "\n",
    "with open('{}_experience_refresh.pickle'.format(name), 'w') as f:  # Python 3: open(..., 'wb')\n",
    "    pickle.dump(n_vec_experience_refresh, f)\n",
    "    \n",
    "    \n",
    "## Getting back the objects:\n",
    "#with open('objs.pickle') as f:  # Python 3: open(..., 'rb')\n",
    "#    k = pickle.load(f)\n",
    "    \n",
    "#print cost"
   ]
  },
  {
   "cell_type": "code",
   "execution_count": 71,
   "metadata": {},
   "outputs": [
    {
     "name": "stdout",
     "output_type": "stream",
     "text": [
      "None\n"
     ]
    }
   ],
   "source": [
    "x = np.array(range(10)).reshape(2,-1)\n",
    "s = slice(None,2)\n",
    "print s.step"
   ]
  }
 ],
 "metadata": {
  "kernelspec": {
   "display_name": "Python 2",
   "language": "python",
   "name": "python2"
  },
  "language_info": {
   "codemirror_mode": {
    "name": "ipython",
    "version": 2
   },
   "file_extension": ".py",
   "mimetype": "text/x-python",
   "name": "python",
   "nbconvert_exporter": "python",
   "pygments_lexer": "ipython2",
   "version": "2.7.13"
  }
 },
 "nbformat": 4,
 "nbformat_minor": 2
}
